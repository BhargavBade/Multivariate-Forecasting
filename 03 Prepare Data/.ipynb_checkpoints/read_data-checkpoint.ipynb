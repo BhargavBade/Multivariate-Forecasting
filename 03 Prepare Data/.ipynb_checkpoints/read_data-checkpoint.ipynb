{
 "cells": [
  {
   "cell_type": "code",
   "execution_count": 2,
   "id": "053f8b92-0cbb-4f0a-8301-9c311c8641fa",
   "metadata": {},
   "outputs": [],
   "source": [
    "import os\n",
    "import pandas as pd\n",
    "import math\n",
    "import matplotlib.pyplot as plt"
   ]
  },
  {
   "cell_type": "code",
   "execution_count": 3,
   "id": "95736eab-ae19-4b25-887d-b9a324b8d106",
   "metadata": {},
   "outputs": [],
   "source": [
    "def load_data_from_csv(data_path):\n",
    "    return pd.read_csv(data_path)"
   ]
  },
  {
   "cell_type": "code",
   "execution_count": 5,
   "id": "27402f09-9948-45eb-9619-7c120bf86801",
   "metadata": {},
   "outputs": [],
   "source": [
    "MAIN_DIR_PATH = '../01 PM2.5 Chinese Weather data'\n",
    "#PREP_MAIN_DIR_PATH = '../Prep_FiveCitiePMData_MEAN'\n",
    "cities_data_path_list = os.listdir(MAIN_DIR_PATH)"
   ]
  },
  {
   "cell_type": "code",
   "execution_count": 6,
   "id": "2c241041-cc66-464a-9593-f5d888cdf479",
   "metadata": {},
   "outputs": [
    {
     "name": "stdout",
     "output_type": "stream",
     "text": [
      "BeijingPM20100101_20151231.csv\n",
      "ChengduPM20100101_20151231.csv\n",
      "GuangzhouPM20100101_20151231.csv\n",
      "ShanghaiPM20100101_20151231.csv\n",
      "ShenyangPM20100101_20151231.csv\n"
     ]
    }
   ],
   "source": [
    "print(*cities_data_path_list, sep='\\n')"
   ]
  },
  {
   "cell_type": "code",
   "execution_count": null,
   "id": "d1871f5b-4178-4104-b645-28932ff4e27c",
   "metadata": {},
   "outputs": [],
   "source": [
    "Beijing city data analysis"
   ]
  },
  {
   "cell_type": "code",
   "execution_count": null,
   "id": "7fcfae29-fa36-42f4-bb64-e63d08f75374",
   "metadata": {},
   "outputs": [],
   "source": []
  }
 ],
 "metadata": {
  "kernelspec": {
   "display_name": "Python 3 (ipykernel)",
   "language": "python",
   "name": "python3"
  },
  "language_info": {
   "codemirror_mode": {
    "name": "ipython",
    "version": 3
   },
   "file_extension": ".py",
   "mimetype": "text/x-python",
   "name": "python",
   "nbconvert_exporter": "python",
   "pygments_lexer": "ipython3",
   "version": "3.12.4"
  }
 },
 "nbformat": 4,
 "nbformat_minor": 5
}
