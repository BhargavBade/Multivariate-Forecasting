{
 "cells": [
  {
   "cell_type": "code",
   "execution_count": 2,
   "id": "053f8b92-0cbb-4f0a-8301-9c311c8641fa",
   "metadata": {},
   "outputs": [],
   "source": [
    "import os\n",
    "import pandas as pd\n",
    "import math\n",
    "import matplotlib.pyplot as plt"
   ]
  },
  {
   "cell_type": "code",
   "execution_count": 3,
   "id": "95736eab-ae19-4b25-887d-b9a324b8d106",
   "metadata": {},
   "outputs": [],
   "source": [
    "def load_data_from_csv(data_path):\n",
    "    return pd.read_csv(data_path)"
   ]
  },
  {
   "cell_type": "code",
   "execution_count": 5,
   "id": "27402f09-9948-45eb-9619-7c120bf86801",
   "metadata": {},
   "outputs": [],
   "source": [
    "MAIN_DIR_PATH = '../01 PM2.5 Chinese Weather data'\n",
    "#PREP_MAIN_DIR_PATH = '../Prep_FiveCitiePMData_MEAN'\n",
    "cities_data_path_list = os.listdir(MAIN_DIR_PATH)"
   ]
  },
  {
   "cell_type": "code",
   "execution_count": 9,
   "id": "2c241041-cc66-464a-9593-f5d888cdf479",
   "metadata": {
    "scrolled": true
   },
   "outputs": [
    {
     "name": "stdout",
     "output_type": "stream",
     "text": [
      "BeijingPM20100101_20151231.csv\n",
      "ChengduPM20100101_20151231.csv\n",
      "GuangzhouPM20100101_20151231.csv\n",
      "ShanghaiPM20100101_20151231.csv\n",
      "ShenyangPM20100101_20151231.csv\n"
     ]
    }
   ],
   "source": [
    "print(*cities_data_path_list, sep='\\n')"
   ]
  },
  {
   "cell_type": "markdown",
   "id": "b733a774-0df7-423f-914d-c8c38e06d6ca",
   "metadata": {},
   "source": [
    "Beijing city data analysis"
   ]
  },
  {
   "cell_type": "code",
   "execution_count": 10,
   "id": "7fcfae29-fa36-42f4-bb64-e63d08f75374",
   "metadata": {},
   "outputs": [
    {
     "name": "stdout",
     "output_type": "stream",
     "text": [
      "../01 PM2.5 Chinese Weather data\\BeijingPM20100101_20151231.csv\n"
     ]
    }
   ],
   "source": [
    "sample_data_path = os.path.join(MAIN_DIR_PATH, cities_data_path_list[0])\n",
    "print(sample_data_path)\n",
    "data = load_data_from_csv(sample_data_path)"
   ]
  },
  {
   "cell_type": "markdown",
   "id": "061d256f-5745-43e5-8e29-687bf1aa499a",
   "metadata": {},
   "source": [
    "1. DATA ANALYSIS"
   ]
  },
  {
   "cell_type": "markdown",
   "id": "481f07a7-8a88-4112-9e9a-4c47f9228c49",
   "metadata": {},
   "source": [
    "1.1 Look at distribution and find outliers"
   ]
  },
  {
   "cell_type": "code",
   "execution_count": 11,
   "id": "e001c0f9-fd53-4df6-b53c-e2790fba024a",
   "metadata": {},
   "outputs": [
    {
     "name": "stdout",
     "output_type": "stream",
     "text": [
      "1 No\n",
      "2 year\n",
      "3 month\n",
      "4 day\n",
      "5 hour\n",
      "6 season\n",
      "7 PM_Dongsi\n",
      "8 PM_Dongsihuan\n",
      "9 PM_Nongzhanguan\n",
      "10 PM_US Post\n",
      "11 DEWP\n",
      "12 HUMI\n",
      "13 PRES\n",
      "14 TEMP\n",
      "15 cbwd\n",
      "16 Iws\n",
      "17 precipitation\n",
      "18 Iprec\n"
     ]
    }
   ],
   "source": [
    "# Here are the features we have\n",
    "for idx, col in enumerate(data.columns):\n",
    "    print(idx + 1, col)"
   ]
  },
  {
   "cell_type": "code",
   "execution_count": null,
   "id": "315ca405-586a-4974-9278-e95dd5e482ce",
   "metadata": {},
   "outputs": [],
   "source": []
  }
 ],
 "metadata": {
  "kernelspec": {
   "display_name": "Python 3 (ipykernel)",
   "language": "python",
   "name": "python3"
  },
  "language_info": {
   "codemirror_mode": {
    "name": "ipython",
    "version": 3
   },
   "file_extension": ".py",
   "mimetype": "text/x-python",
   "name": "python",
   "nbconvert_exporter": "python",
   "pygments_lexer": "ipython3",
   "version": "3.12.4"
  }
 },
 "nbformat": 4,
 "nbformat_minor": 5
}
